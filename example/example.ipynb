{
 "cells": [
  {
   "cell_type": "markdown",
   "metadata": {},
   "source": [
    "# Example for negative times values (The example file is a [testfile of pyglotaran](https://github.com/glotaran/pyglotaran/blob/master/glotaran/builtin/file_formats/sdt/test/data_files/temporal.sdt))"
   ]
  },
  {
   "cell_type": "code",
   "execution_count": 1,
   "metadata": {},
   "outputs": [],
   "source": [
    "import numpy as np\n",
    "from sdtfile import SdtFile, FileRevision"
   ]
  },
  {
   "cell_type": "code",
   "execution_count": 2,
   "metadata": {},
   "outputs": [],
   "source": [
    "file = SdtFile(\"temporal.sdt\")"
   ]
  },
  {
   "cell_type": "code",
   "execution_count": 3,
   "metadata": {},
   "outputs": [
    {
     "data": {
      "text/plain": [
       "[array([-0.00000000e+00, -1.22179723e-11, -2.44359446e-11, ...,\n",
       "        -5.00081606e-08, -5.00203786e-08, -5.00325965e-08])]"
      ]
     },
     "execution_count": 3,
     "metadata": {},
     "output_type": "execute_result"
    }
   ],
   "source": [
    "file.times"
   ]
  },
  {
   "cell_type": "markdown",
   "metadata": {},
   "source": [
    "## Since negative times aren't reasonable, closer investigation is needed"
   ]
  },
  {
   "cell_type": "code",
   "execution_count": 4,
   "metadata": {},
   "outputs": [
    {
     "data": {
      "text/plain": [
       "15"
      ]
     },
     "execution_count": 4,
     "metadata": {},
     "output_type": "execute_result"
    }
   ],
   "source": [
    "FileRevision(file.header.revision).revision"
   ]
  },
  {
   "cell_type": "code",
   "execution_count": 5,
   "metadata": {},
   "outputs": [
    {
     "data": {
      "text/plain": [
       "[rec.array([(b'11:44:42', b'2017-04-27', b'3D0004', 0, -25.490196, 80., -30.236221, 5., -9.826772, 1, 4., 5.0044815e-08, 15, 50.64713, 3.9215686, 95.68627, 4096, 0, 1, 1, 1, 300., 100000., 0, 78, 0, 1, 0., 128, 1, 0, b'SPC-830', -29.411764, 1, 1, 1, 1, 2, 0, 1, 1, 1, 6, 2.e-07, 1, 16, 0, 0, 0, 0, 0, 4, 830, 260, 0., 0, 1, (264, 32768, 186.80542, 1, 1, 1, 20100096., 5504., 2880., 2560., 20100352., 6080., 3168., 2848., 0, 0.), (0, 0, 0, 0., 0, 0, 0., 0, 0, 0, 0, 0, 0), 0, 0, 0, 0, 0, 0, 0, 0, 0, (0., 0., 0, 0, 0., 0))],\n",
       "           dtype=[('time', 'S9'), ('date', 'S11'), ('mod_ser_no', 'S16'), ('meas_mode', '<i2'), ('cfd_ll', '<f4'), ('cfd_lh', '<f4'), ('cfd_zc', '<f4'), ('cfd_hf', '<f4'), ('syn_zc', '<f4'), ('syn_fd', '<i2'), ('syn_hf', '<f4'), ('tac_r', '<f4'), ('tac_g', '<i2'), ('tac_of', '<f4'), ('tac_ll', '<f4'), ('tac_lh', '<f4'), ('adc_re', '<i2'), ('eal_de', '<i2'), ('ncx', '<i2'), ('ncy', '<i2'), ('page', '<u2'), ('col_t', '<f4'), ('rep_t', '<f4'), ('stopt', '<i2'), ('overfl', 'u1'), ('use_motor', '<i2'), ('steps', '<u2'), ('offset', '<f4'), ('dither', '<i2'), ('incr', '<i2'), ('mem_bank', '<i2'), ('mod', 'S16'), ('syn_th', '<f4'), ('dead_time_comp', '<i2'), ('polarity_l', '<i2'), ('polarity_f', '<i2'), ('polarity_p', '<i2'), ('linediv', '<i2'), ('accumulate', '<i2'), ('flbck_y', '<i4'), ('flbck_x', '<i4'), ('bord_u', '<i4'), ('bord_l', '<i4'), ('pix_time', '<f4'), ('pix_clk', '<i2'), ('trigger', '<i2'), ('scan_x', '<i4'), ('scan_y', '<i4'), ('scan_rx', '<i4'), ('scan_ry', '<i4'), ('fifo_typ', '<i2'), ('epx_div', '<i4'), ('mod_code', '<u2'), ('mod_fpga_ver', '<u2'), ('overflow_corr_factor', '<f4'), ('adc_zoom', '<i4'), ('cycles', '<i4'), ('StopInfo', [('status', '<u2'), ('flags', '<u2'), ('stop_time', '<f4'), ('cur_step', '<i4'), ('cur_cycle', '<i4'), ('cur_page', '<i4'), ('min_sync_rate', '<f4'), ('min_cfd_rate', '<f4'), ('min_tac_rate', '<f4'), ('min_adc_rate', '<f4'), ('max_sync_rate', '<f4'), ('max_cfd_rate', '<f4'), ('max_tac_rate', '<f4'), ('max_adc_rate', '<f4'), ('reserved1', '<i4'), ('reserved2', '<f4')]), ('FCSInfo', [('chan', '<u2'), ('fcs_decay_calc', '<u2'), ('mt_resol', '<u4'), ('cortime', '<f4'), ('calc_photons', '<u4'), ('fcs_points', '<i4'), ('end_time', '<f4'), ('overruns', '<u2'), ('fcs_type', '<u2'), ('cross_chan', '<u2'), ('mod', '<u2'), ('cross_mod', '<u2'), ('cross_mt_resol', '<u4')]), ('image_x', '<i4'), ('image_y', '<i4'), ('image_rx', '<i4'), ('image_ry', '<i4'), ('xy_gain', '<i2'), ('master_clock', '<i2'), ('adc_de', '<i2'), ('det', '<i2'), ('x_axis', '<i2'), ('MeasHISTInfo', [('fida_time', '<f4'), ('filda_time', '<f4'), ('fida_points', '<i4'), ('filda_points', '<i4'), ('mcs_time', '<f4'), ('mcs_points', '<i4')])])]"
      ]
     },
     "execution_count": 5,
     "metadata": {},
     "output_type": "execute_result"
    }
   ],
   "source": [
    "file.measure_info"
   ]
  },
  {
   "cell_type": "code",
   "execution_count": 6,
   "metadata": {},
   "outputs": [
    {
     "data": {
      "text/plain": [
       "(0, 0, 18123, 26315, 3, 0, 1, 8192)"
      ]
     },
     "execution_count": 6,
     "metadata": {},
     "output_type": "execute_result"
    }
   ],
   "source": [
    "file.block_headers[0]"
   ]
  },
  {
   "cell_type": "markdown",
   "metadata": {},
   "source": [
    "## Let's have a closer look at the [calculation of the times values](https://github.com/cgohlke/sdtfile/blob/e085fa55429988ccf2a0671c2fa6ba4a45c18b39/sdtfile/sdtfile.py#L276)"
   ]
  },
  {
   "cell_type": "code",
   "execution_count": 7,
   "metadata": {},
   "outputs": [
    {
     "data": {
      "text/plain": [
       "array([5.0044815e-08], dtype=float32)"
      ]
     },
     "execution_count": 7,
     "metadata": {},
     "output_type": "execute_result"
    }
   ],
   "source": [
    "tac_r = file.measure_info[0].tac_r\n",
    "tac_r"
   ]
  },
  {
   "cell_type": "code",
   "execution_count": 8,
   "metadata": {},
   "outputs": [
    {
     "data": {
      "text/plain": [
       "array([15], dtype=int16)"
      ]
     },
     "execution_count": 8,
     "metadata": {},
     "output_type": "execute_result"
    }
   ],
   "source": [
    "tac_g = file.measure_info[0].tac_g\n",
    "tac_g"
   ]
  },
  {
   "cell_type": "code",
   "execution_count": 9,
   "metadata": {},
   "outputs": [
    {
     "data": {
      "text/plain": [
       "4096"
      ]
     },
     "execution_count": 9,
     "metadata": {},
     "output_type": "execute_result"
    }
   ],
   "source": [
    "adc_re = int(file.measure_info[0].adc_re)\n",
    "adc_re"
   ]
  },
  {
   "cell_type": "markdown",
   "metadata": {},
   "source": [
    "### Original code for the multiplicative factor "
   ]
  },
  {
   "cell_type": "code",
   "execution_count": 10,
   "metadata": {},
   "outputs": [
    {
     "data": {
      "text/plain": [
       "array([-1.2217972e-11], dtype=float32)"
      ]
     },
     "execution_count": 10,
     "metadata": {},
     "output_type": "execute_result"
    }
   ],
   "source": [
    "tac_r / float(tac_g*adc_re)"
   ]
  },
  {
   "cell_type": "markdown",
   "metadata": {},
   "source": [
    "### The difference needs to be caused by `float(tac_g*adc_re)`"
   ]
  },
  {
   "cell_type": "code",
   "execution_count": 11,
   "metadata": {},
   "outputs": [
    {
     "data": {
      "text/plain": [
       "-4096.0"
      ]
     },
     "execution_count": 11,
     "metadata": {},
     "output_type": "execute_result"
    }
   ],
   "source": [
    "float(tac_g*adc_re)"
   ]
  },
  {
   "cell_type": "code",
   "execution_count": 12,
   "metadata": {},
   "outputs": [
    {
     "data": {
      "text/plain": [
       "61440.0"
      ]
     },
     "execution_count": 12,
     "metadata": {},
     "output_type": "execute_result"
    }
   ],
   "source": [
    "float(tac_g[0]*adc_re)"
   ]
  },
  {
   "cell_type": "markdown",
   "metadata": {},
   "source": [
    "### The cause of the problem is a datatype overflow since mi.tac_g is int"
   ]
  },
  {
   "cell_type": "code",
   "execution_count": 13,
   "metadata": {},
   "outputs": [
    {
     "data": {
      "text/plain": [
       "array([-4096,     0,  4096], dtype=int16)"
      ]
     },
     "execution_count": 13,
     "metadata": {},
     "output_type": "execute_result"
    }
   ],
   "source": [
    "np.array([15, 16, 17], dtype=np.int16) * adc_re"
   ]
  },
  {
   "cell_type": "markdown",
   "metadata": {},
   "source": [
    "## Possible solutions"
   ]
  },
  {
   "cell_type": "code",
   "execution_count": 14,
   "metadata": {},
   "outputs": [
    {
     "data": {
      "text/plain": [
       "array([8.145315e-13], dtype=float32)"
      ]
     },
     "execution_count": 14,
     "metadata": {},
     "output_type": "execute_result"
    }
   ],
   "source": [
    "tac_r / (float(tac_g)*adc_re)"
   ]
  },
  {
   "cell_type": "code",
   "execution_count": 15,
   "metadata": {},
   "outputs": [
    {
     "data": {
      "text/plain": [
       "8.145314862410362e-13"
      ]
     },
     "execution_count": 15,
     "metadata": {},
     "output_type": "execute_result"
    }
   ],
   "source": [
    "tac_r[0] / float(tac_g[0]*adc_re)"
   ]
  },
  {
   "cell_type": "code",
   "execution_count": null,
   "metadata": {},
   "outputs": [],
   "source": []
  }
 ],
 "metadata": {
  "kernelspec": {
   "display_name": "Python 3",
   "language": "python",
   "name": "python3"
  },
  "language_info": {
   "codemirror_mode": {
    "name": "ipython",
    "version": 3
   },
   "file_extension": ".py",
   "mimetype": "text/x-python",
   "name": "python",
   "nbconvert_exporter": "python",
   "pygments_lexer": "ipython3",
   "version": "3.7.8"
  }
 },
 "nbformat": 4,
 "nbformat_minor": 4
}
